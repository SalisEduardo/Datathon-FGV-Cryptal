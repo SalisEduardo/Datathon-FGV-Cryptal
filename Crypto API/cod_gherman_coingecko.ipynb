{
  "cells": [
    {
      "cell_type": "code",
      "execution_count": 15,
      "metadata": {
        "colab": {
          "base_uri": "https://localhost:8080/"
        },
        "id": "oUqfI_j57vXF",
        "outputId": "54d59834-0951-40e6-cbcd-11eaa248bfdd"
      },
      "outputs": [
        {
          "name": "stdout",
          "output_type": "stream",
          "text": [
            "Requirement already satisfied: pycoingecko in /home/eduardo/anaconda3/lib/python3.9/site-packages (3.0.0)\n",
            "Requirement already satisfied: requests in /home/eduardo/anaconda3/lib/python3.9/site-packages (from pycoingecko) (2.27.1)\n",
            "Requirement already satisfied: idna<4,>=2.5 in /home/eduardo/anaconda3/lib/python3.9/site-packages (from requests->pycoingecko) (3.3)\n",
            "Requirement already satisfied: charset-normalizer~=2.0.0 in /home/eduardo/anaconda3/lib/python3.9/site-packages (from requests->pycoingecko) (2.0.4)\n",
            "Requirement already satisfied: urllib3<1.27,>=1.21.1 in /home/eduardo/anaconda3/lib/python3.9/site-packages (from requests->pycoingecko) (1.26.9)\n",
            "Requirement already satisfied: certifi>=2017.4.17 in /home/eduardo/anaconda3/lib/python3.9/site-packages (from requests->pycoingecko) (2021.10.8)\n"
          ]
        }
      ],
      "source": [
        "# coingecko API - forma nativa de trabalhar - SDK - interage com a API\n",
        "\n",
        "!pip install pycoingecko"
      ]
    },
    {
      "cell_type": "code",
      "execution_count": 16,
      "metadata": {
        "id": "l27A9xrK7yiA"
      },
      "outputs": [],
      "source": [
        "import pandas as pd \n",
        "import time\n",
        "from pycoingecko import CoinGeckoAPI # importa o SDK\n",
        "from tqdm import tqdm # barra de progresso"
      ]
    },
    {
      "cell_type": "code",
      "execution_count": 17,
      "metadata": {
        "id": "OtcxIAiPcWgm"
      },
      "outputs": [],
      "source": [
        "cg = CoinGeckoAPI() # cria um objeto SDK"
      ]
    },
    {
      "cell_type": "code",
      "execution_count": 18,
      "metadata": {
        "id": "KXTHPmsb8HoC"
      },
      "outputs": [],
      "source": [
        "coin_list = cg.get_coins_list() # lista de moedas disponíveis na DB\n",
        "coins_df = pd.DataFrame(coin_list)"
      ]
    },
    {
      "cell_type": "code",
      "execution_count": 19,
      "metadata": {},
      "outputs": [
        {
          "data": {
            "text/html": [
              "<div>\n",
              "<style scoped>\n",
              "    .dataframe tbody tr th:only-of-type {\n",
              "        vertical-align: middle;\n",
              "    }\n",
              "\n",
              "    .dataframe tbody tr th {\n",
              "        vertical-align: top;\n",
              "    }\n",
              "\n",
              "    .dataframe thead th {\n",
              "        text-align: right;\n",
              "    }\n",
              "</style>\n",
              "<table border=\"1\" class=\"dataframe\">\n",
              "  <thead>\n",
              "    <tr style=\"text-align: right;\">\n",
              "      <th></th>\n",
              "      <th>id</th>\n",
              "      <th>symbol</th>\n",
              "      <th>name</th>\n",
              "    </tr>\n",
              "  </thead>\n",
              "  <tbody>\n",
              "    <tr>\n",
              "      <th>0</th>\n",
              "      <td>01coin</td>\n",
              "      <td>zoc</td>\n",
              "      <td>01coin</td>\n",
              "    </tr>\n",
              "    <tr>\n",
              "      <th>1</th>\n",
              "      <td>0-5x-long-algorand-token</td>\n",
              "      <td>algohalf</td>\n",
              "      <td>0.5X Long Algorand</td>\n",
              "    </tr>\n",
              "    <tr>\n",
              "      <th>2</th>\n",
              "      <td>0-5x-long-altcoin-index-token</td>\n",
              "      <td>althalf</td>\n",
              "      <td>0.5X Long Altcoin Index</td>\n",
              "    </tr>\n",
              "    <tr>\n",
              "      <th>3</th>\n",
              "      <td>0-5x-long-ascendex-token-token</td>\n",
              "      <td>asdhalf</td>\n",
              "      <td>0.5X Long AscendEx</td>\n",
              "    </tr>\n",
              "    <tr>\n",
              "      <th>4</th>\n",
              "      <td>0-5x-long-bitcoin-cash-token</td>\n",
              "      <td>bchhalf</td>\n",
              "      <td>0.5X Long Bitcoin Cash</td>\n",
              "    </tr>\n",
              "  </tbody>\n",
              "</table>\n",
              "</div>"
            ],
            "text/plain": [
              "                               id    symbol                     name\n",
              "0                          01coin       zoc                   01coin\n",
              "1        0-5x-long-algorand-token  algohalf       0.5X Long Algorand\n",
              "2   0-5x-long-altcoin-index-token   althalf  0.5X Long Altcoin Index\n",
              "3  0-5x-long-ascendex-token-token   asdhalf       0.5X Long AscendEx\n",
              "4    0-5x-long-bitcoin-cash-token   bchhalf   0.5X Long Bitcoin Cash"
            ]
          },
          "execution_count": 19,
          "metadata": {},
          "output_type": "execute_result"
        }
      ],
      "source": [
        "coins_df.head()"
      ]
    },
    {
      "cell_type": "code",
      "execution_count": 20,
      "metadata": {
        "colab": {
          "base_uri": "https://localhost:8080/",
          "height": 423
        },
        "id": "ycc3r8vI4GnR",
        "outputId": "2e2ee665-514c-4623-dcb6-f95ff1303f99"
      },
      "outputs": [
        {
          "data": {
            "text/plain": [
              "(13213, 3)"
            ]
          },
          "execution_count": 20,
          "metadata": {},
          "output_type": "execute_result"
        }
      ],
      "source": [
        "coins_df.shape"
      ]
    },
    {
      "cell_type": "code",
      "execution_count": 21,
      "metadata": {},
      "outputs": [
        {
          "data": {
            "text/plain": [
              "(13213, 3)"
            ]
          },
          "execution_count": 21,
          "metadata": {},
          "output_type": "execute_result"
        }
      ],
      "source": [
        "coins_df.drop_duplicates().shape"
      ]
    },
    {
      "cell_type": "code",
      "execution_count": 23,
      "metadata": {},
      "outputs": [
        {
          "data": {
            "text/html": [
              "<div>\n",
              "<style scoped>\n",
              "    .dataframe tbody tr th:only-of-type {\n",
              "        vertical-align: middle;\n",
              "    }\n",
              "\n",
              "    .dataframe tbody tr th {\n",
              "        vertical-align: top;\n",
              "    }\n",
              "\n",
              "    .dataframe thead th {\n",
              "        text-align: right;\n",
              "    }\n",
              "</style>\n",
              "<table border=\"1\" class=\"dataframe\">\n",
              "  <thead>\n",
              "    <tr style=\"text-align: right;\">\n",
              "      <th></th>\n",
              "      <th>id</th>\n",
              "      <th>symbol</th>\n",
              "      <th>name</th>\n",
              "    </tr>\n",
              "  </thead>\n",
              "  <tbody>\n",
              "    <tr>\n",
              "      <th>1548</th>\n",
              "      <td>binancecoin</td>\n",
              "      <td>bnb</td>\n",
              "      <td>BNB</td>\n",
              "    </tr>\n",
              "    <tr>\n",
              "      <th>1549</th>\n",
              "      <td>binance-coin-wormhole</td>\n",
              "      <td>bnb</td>\n",
              "      <td>Binance Coin (Wormhole)</td>\n",
              "    </tr>\n",
              "    <tr>\n",
              "      <th>1556</th>\n",
              "      <td>binance-peg-cardano</td>\n",
              "      <td>ada</td>\n",
              "      <td>Binance-Peg Cardano</td>\n",
              "    </tr>\n",
              "    <tr>\n",
              "      <th>1557</th>\n",
              "      <td>binance-peg-dogecoin</td>\n",
              "      <td>doge</td>\n",
              "      <td>Binance-Peg Dogecoin</td>\n",
              "    </tr>\n",
              "    <tr>\n",
              "      <th>1562</th>\n",
              "      <td>binance-peg-litecoin</td>\n",
              "      <td>ltc</td>\n",
              "      <td>Binance-Peg Litecoin</td>\n",
              "    </tr>\n",
              "    <tr>\n",
              "      <th>1565</th>\n",
              "      <td>binance-peg-xrp</td>\n",
              "      <td>xrp</td>\n",
              "      <td>Binance-Peg XRP</td>\n",
              "    </tr>\n",
              "    <tr>\n",
              "      <th>1623</th>\n",
              "      <td>bitcoin</td>\n",
              "      <td>btc</td>\n",
              "      <td>Bitcoin</td>\n",
              "    </tr>\n",
              "    <tr>\n",
              "      <th>2249</th>\n",
              "      <td>cardano</td>\n",
              "      <td>ada</td>\n",
              "      <td>Cardano</td>\n",
              "    </tr>\n",
              "    <tr>\n",
              "      <th>3653</th>\n",
              "      <td>dogecoin</td>\n",
              "      <td>doge</td>\n",
              "      <td>Dogecoin</td>\n",
              "    </tr>\n",
              "    <tr>\n",
              "      <th>4202</th>\n",
              "      <td>ethereum</td>\n",
              "      <td>eth</td>\n",
              "      <td>Ethereum</td>\n",
              "    </tr>\n",
              "    <tr>\n",
              "      <th>4218</th>\n",
              "      <td>ethereum-wormhole</td>\n",
              "      <td>eth</td>\n",
              "      <td>Ethereum (Wormhole)</td>\n",
              "    </tr>\n",
              "    <tr>\n",
              "      <th>5458</th>\n",
              "      <td>heco-peg-bnb</td>\n",
              "      <td>bnb</td>\n",
              "      <td>Heco-Peg Binance Coin</td>\n",
              "    </tr>\n",
              "    <tr>\n",
              "      <th>5459</th>\n",
              "      <td>heco-peg-xrp</td>\n",
              "      <td>xrp</td>\n",
              "      <td>Heco-Peg XRP</td>\n",
              "    </tr>\n",
              "    <tr>\n",
              "      <th>6783</th>\n",
              "      <td>litecoin</td>\n",
              "      <td>ltc</td>\n",
              "      <td>Litecoin</td>\n",
              "    </tr>\n",
              "    <tr>\n",
              "      <th>8412</th>\n",
              "      <td>oec-binance-coin</td>\n",
              "      <td>bnb</td>\n",
              "      <td>OEC Binance Coin</td>\n",
              "    </tr>\n",
              "    <tr>\n",
              "      <th>9823</th>\n",
              "      <td>ripple</td>\n",
              "      <td>xrp</td>\n",
              "      <td>XRP</td>\n",
              "    </tr>\n",
              "    <tr>\n",
              "      <th>11795</th>\n",
              "      <td>tron</td>\n",
              "      <td>trx</td>\n",
              "      <td>TRON</td>\n",
              "    </tr>\n",
              "    <tr>\n",
              "      <th>11799</th>\n",
              "      <td>tron-bsc</td>\n",
              "      <td>trx</td>\n",
              "      <td>TRON (BSC)</td>\n",
              "    </tr>\n",
              "  </tbody>\n",
              "</table>\n",
              "</div>"
            ],
            "text/plain": [
              "                          id symbol                     name\n",
              "1548             binancecoin    bnb                      BNB\n",
              "1549   binance-coin-wormhole    bnb  Binance Coin (Wormhole)\n",
              "1556     binance-peg-cardano    ada      Binance-Peg Cardano\n",
              "1557    binance-peg-dogecoin   doge     Binance-Peg Dogecoin\n",
              "1562    binance-peg-litecoin    ltc     Binance-Peg Litecoin\n",
              "1565         binance-peg-xrp    xrp          Binance-Peg XRP\n",
              "1623                 bitcoin    btc                  Bitcoin\n",
              "2249                 cardano    ada                  Cardano\n",
              "3653                dogecoin   doge                 Dogecoin\n",
              "4202                ethereum    eth                 Ethereum\n",
              "4218       ethereum-wormhole    eth      Ethereum (Wormhole)\n",
              "5458            heco-peg-bnb    bnb    Heco-Peg Binance Coin\n",
              "5459            heco-peg-xrp    xrp             Heco-Peg XRP\n",
              "6783                litecoin    ltc                 Litecoin\n",
              "8412        oec-binance-coin    bnb         OEC Binance Coin\n",
              "9823                  ripple    xrp                      XRP\n",
              "11795                   tron    trx                     TRON\n",
              "11799               tron-bsc    trx               TRON (BSC)"
            ]
          },
          "execution_count": 23,
          "metadata": {},
          "output_type": "execute_result"
        }
      ],
      "source": [
        "coins_df[coins_df['symbol'].isin([x.lower() for x in [\"BNB\",\"ADA\",\"ETH\",\"LTC\",\"TRX\",\"BTC\",\"XRP\",\"DOGE\"]])]"
      ]
    },
    {
      "cell_type": "code",
      "execution_count": 24,
      "metadata": {},
      "outputs": [],
      "source": [
        "list_symbol = [x.lower() for x in [\"BNB\",\"ADA\",\"ETH\",\"LTC\",\"TRX\",\"BTC\",\"XRP\",\"DOGE\"]]\n",
        "\n",
        "list_name = ['BNB','Cardano','Ethereum','Litecoin','TRON','Bitcoin','XRP','Dogecoin']\n",
        "list_id = ['binancecoin','cardano','ethereum','litecoin','tron','bitcoin','ripple','dogecoin']\n",
        "\n"
      ]
    },
    {
      "cell_type": "code",
      "execution_count": 9,
      "metadata": {
        "id": "Ym9V67nLFOen"
      },
      "outputs": [],
      "source": [
        "# Lista das moedas que eu queria na época\n",
        "\n",
        "list_symbol = 'bnb,bch,btc,ada,link,doge,eth,etc,fil,ltc,xrp,xlm,sol'.split(',')\n",
        "list_name = 'BNB,Bitcoin Cash,Bitcoin,Cardano,Chainlink,Dogecoin,Ethereum,Ethereum Classic,Filecoin,Litecoin,XRP,Stellar,Solana'.split(',')\n",
        "list_id = 'binancecoin,bitcoin-cash,bitcoin,cardano,chainlink,dogecoin,ethereum,ethereum-classic,filecoin,litecoin,ripple,stellar,solana'.split(',')"
      ]
    },
    {
      "cell_type": "code",
      "execution_count": 31,
      "metadata": {},
      "outputs": [],
      "source": [
        "def save_coin_data_as_csv(coin_id, coin_symbol, coin_name):\n",
        "\n",
        "  start_date = '1451606400' # Date and time (GMT): Friday, 1 January 2016 00:00:00\n",
        "  end_date = '1664582399' # Date and time (GMT): Friday, 30 September 2022 23:59:59\n",
        "  # função do SDK que consulta esses dados\n",
        "  coin_data = cg.get_coin_market_chart_range_by_id(\n",
        "      id = coin_id,\n",
        "      symbol = coin_symbol,\n",
        "      name = coin_name,\n",
        "      vs_currency = 'usd',\n",
        "      from_timestamp = start_date,\n",
        "      to_timestamp = end_date\n",
        "  )\n",
        "  df = pd.DataFrame(\n",
        "      coin_data['prices'], # array de 'datas' e 'preços'\n",
        "      columns = ['date','price'] # nomeia as colunas\n",
        "    )\n",
        "  df['date'] = df['date'].apply(lambda i: datetime.datetime.fromtimestamp(i/1000.0).strftime(\"%Y-%m-%d\"))\n",
        "  return(df)"
      ]
    },
    {
      "cell_type": "code",
      "execution_count": 11,
      "metadata": {},
      "outputs": [],
      "source": [
        "from datetime import datetime, timezone\n",
        "def timestamp_miliseconds(dt,dt_format=\"%Y-%m-%d\"):\n",
        "    dt = datetime.strptime(dt, dt_format)\n",
        "\n",
        "    dt_timestamp = dt.replace(tzinfo=timezone.utc).timestamp() \n",
        "    dt_timestamp_string = str(int(dt_timestamp))\n",
        "    \n",
        "    return(dt_timestamp)"
      ]
    },
    {
      "cell_type": "code",
      "execution_count": 14,
      "metadata": {},
      "outputs": [
        {
          "data": {
            "text/plain": [
              "'1451606400'"
            ]
          },
          "execution_count": 14,
          "metadata": {},
          "output_type": "execute_result"
        }
      ],
      "source": [
        "str(int(timestamp_miliseconds(\"2016-01-01\")))"
      ]
    },
    {
      "cell_type": "code",
      "execution_count": 32,
      "metadata": {},
      "outputs": [
        {
          "data": {
            "text/html": [
              "<div>\n",
              "<style scoped>\n",
              "    .dataframe tbody tr th:only-of-type {\n",
              "        vertical-align: middle;\n",
              "    }\n",
              "\n",
              "    .dataframe tbody tr th {\n",
              "        vertical-align: top;\n",
              "    }\n",
              "\n",
              "    .dataframe thead th {\n",
              "        text-align: right;\n",
              "    }\n",
              "</style>\n",
              "<table border=\"1\" class=\"dataframe\">\n",
              "  <thead>\n",
              "    <tr style=\"text-align: right;\">\n",
              "      <th></th>\n",
              "      <th>date</th>\n",
              "      <th>price</th>\n",
              "    </tr>\n",
              "  </thead>\n",
              "  <tbody>\n",
              "    <tr>\n",
              "      <th>0</th>\n",
              "      <td>2017-09-15</td>\n",
              "      <td>0.107251</td>\n",
              "    </tr>\n",
              "    <tr>\n",
              "      <th>1</th>\n",
              "      <td>2017-09-16</td>\n",
              "      <td>0.154041</td>\n",
              "    </tr>\n",
              "    <tr>\n",
              "      <th>2</th>\n",
              "      <td>2017-09-17</td>\n",
              "      <td>0.173491</td>\n",
              "    </tr>\n",
              "    <tr>\n",
              "      <th>3</th>\n",
              "      <td>2017-09-18</td>\n",
              "      <td>0.168334</td>\n",
              "    </tr>\n",
              "    <tr>\n",
              "      <th>4</th>\n",
              "      <td>2017-09-19</td>\n",
              "      <td>0.166628</td>\n",
              "    </tr>\n",
              "    <tr>\n",
              "      <th>...</th>\n",
              "      <td>...</td>\n",
              "      <td>...</td>\n",
              "    </tr>\n",
              "    <tr>\n",
              "      <th>1834</th>\n",
              "      <td>2022-09-25</td>\n",
              "      <td>274.088617</td>\n",
              "    </tr>\n",
              "    <tr>\n",
              "      <th>1835</th>\n",
              "      <td>2022-09-26</td>\n",
              "      <td>275.645021</td>\n",
              "    </tr>\n",
              "    <tr>\n",
              "      <th>1836</th>\n",
              "      <td>2022-09-27</td>\n",
              "      <td>272.550204</td>\n",
              "    </tr>\n",
              "    <tr>\n",
              "      <th>1837</th>\n",
              "      <td>2022-09-28</td>\n",
              "      <td>281.358161</td>\n",
              "    </tr>\n",
              "    <tr>\n",
              "      <th>1838</th>\n",
              "      <td>2022-09-29</td>\n",
              "      <td>283.748723</td>\n",
              "    </tr>\n",
              "  </tbody>\n",
              "</table>\n",
              "<p>1839 rows × 2 columns</p>\n",
              "</div>"
            ],
            "text/plain": [
              "            date       price\n",
              "0     2017-09-15    0.107251\n",
              "1     2017-09-16    0.154041\n",
              "2     2017-09-17    0.173491\n",
              "3     2017-09-18    0.168334\n",
              "4     2017-09-19    0.166628\n",
              "...          ...         ...\n",
              "1834  2022-09-25  274.088617\n",
              "1835  2022-09-26  275.645021\n",
              "1836  2022-09-27  272.550204\n",
              "1837  2022-09-28  281.358161\n",
              "1838  2022-09-29  283.748723\n",
              "\n",
              "[1839 rows x 2 columns]"
            ]
          },
          "execution_count": 32,
          "metadata": {},
          "output_type": "execute_result"
        }
      ],
      "source": [
        "save_coin_data_as_csv(\"binancecoin\",\"BNB\",\"bnb\")"
      ]
    },
    {
      "cell_type": "code",
      "execution_count": 24,
      "metadata": {},
      "outputs": [],
      "source": [
        "x = save_coin_data_as_csv(\"binancecoin\",\"BNB\",\"bnb\")"
      ]
    },
    {
      "cell_type": "code",
      "execution_count": 30,
      "metadata": {},
      "outputs": [
        {
          "data": {
            "text/plain": [
              "0       2017-09-15\n",
              "1       2017-09-16\n",
              "2       2017-09-17\n",
              "3       2017-09-18\n",
              "4       2017-09-19\n",
              "           ...    \n",
              "1681    2022-04-25\n",
              "1682    2022-04-26\n",
              "1683    2022-04-27\n",
              "1684    2022-04-28\n",
              "1685    2022-04-29\n",
              "Name: date, Length: 1686, dtype: object"
            ]
          },
          "execution_count": 30,
          "metadata": {},
          "output_type": "execute_result"
        }
      ],
      "source": [
        "x['date'].apply(lambda i: datetime.datetime.fromtimestamp(i/1000.0).strftime(\"%Y-%m-%d\"))"
      ]
    },
    {
      "cell_type": "code",
      "execution_count": 27,
      "metadata": {},
      "outputs": [
        {
          "name": "stdout",
          "output_type": "stream",
          "text": [
            "bnb BNB binancecoin\n",
            "ada Cardano cardano\n",
            "eth Ethereum ethereum\n",
            "ltc Litecoin litecoin\n",
            "trx TRON tron\n",
            "btc Bitcoin bitcoin\n",
            "xrp XRP ripple\n",
            "doge Dogecoin dogecoin\n"
          ]
        }
      ],
      "source": [
        "for symbol,name,id in zip(list_symbol,list_name,list_id):\n",
        "    print(symbol,name,id)"
      ]
    },
    {
      "cell_type": "code",
      "execution_count": 29,
      "metadata": {},
      "outputs": [
        {
          "data": {
            "text/plain": [
              "'2017-09-15'"
            ]
          },
          "execution_count": 29,
          "metadata": {},
          "output_type": "execute_result"
        }
      ],
      "source": [
        "datetime.datetime.fromtimestamp(1505520000000/1000.0).strftime(\"%Y-%m-%d\")"
      ]
    },
    {
      "cell_type": "code",
      "execution_count": null,
      "metadata": {},
      "outputs": [],
      "source": []
    },
    {
      "cell_type": "code",
      "execution_count": null,
      "metadata": {
        "id": "5UBXEBOQCQ3e"
      },
      "outputs": [],
      "source": [
        "def save_coin_data_as_csv(coin_id, coin_symbol, coin_name):\n",
        "\n",
        "  start_date = '1451606400' # Date and time (GMT): Friday, 1 January 2016 00:00:00\n",
        "  end_date = '1651363199' # Date and time (GMT): Saturday, 30 April 2022 23:59:59\n",
        "  # função do SDK que consulta esses dados\n",
        "  coin_data = cg.get_coin_market_chart_range_by_id(\n",
        "      id = coin_id,\n",
        "      symbol = coin_symbol,\n",
        "      name = coin_name,\n",
        "      vs_currency = 'usd',\n",
        "      from_timestamp = start_date,\n",
        "      to_timestamp = end_date\n",
        "  )\n",
        "\n",
        "  # salvar em csv\n",
        "  pd.DataFrame(\n",
        "      coin_data['prices'], # array de 'datas' e 'preços'\n",
        "      columns = ['date','price'] # nomeia as colunas\n",
        "  ).to_csv(f'{coin_id}_daily.csv', index = False)"
      ]
    },
    {
      "cell_type": "code",
      "execution_count": null,
      "metadata": {
        "id": "HinWeGt0FUnS"
      },
      "outputs": [],
      "source": [
        "for i in range(len(list_symbol)):\n",
        "  save_coin_data_as_csv(\n",
        "      list_id[i],\n",
        "      list_symbol[i], \n",
        "      list_name[i]\n",
        "  )\n",
        "\n",
        "  time.sleep(10)"
      ]
    },
    {
      "cell_type": "code",
      "execution_count": null,
      "metadata": {
        "colab": {
          "base_uri": "https://localhost:8080/",
          "height": 260
        },
        "id": "V5kq3SuUF00d",
        "outputId": "0d8958c0-fb3b-4a07-c500-2fdef80244a9"
      },
      "outputs": [
        {
          "name": "stdout",
          "output_type": "stream",
          "text": [
            "  adding: binancecoin_daily.csv (deflated 58%)\n",
            "  adding: bitcoin-cash_daily.csv (deflated 57%)\n",
            "  adding: bitcoin_daily.csv (deflated 59%)\n",
            "  adding: cardano_daily.csv (deflated 60%)\n",
            "  adding: chainlink_daily.csv (deflated 59%)\n",
            "  adding: dogecoin_daily.csv (deflated 63%)\n",
            "  adding: ethereum-classic_daily.csv (deflated 60%)\n",
            "  adding: ethereum_daily.csv (deflated 58%)\n",
            "  adding: filecoin_daily.csv (deflated 57%)\n",
            "  adding: litecoin_daily.csv (deflated 58%)\n",
            "  adding: ripple_daily.csv (deflated 64%)\n",
            "  adding: solana_daily.csv (deflated 57%)\n",
            "  adding: stellar_daily.csv (deflated 63%)\n"
          ]
        },
        {
          "data": {
            "application/javascript": "\n    async function download(id, filename, size) {\n      if (!google.colab.kernel.accessAllowed) {\n        return;\n      }\n      const div = document.createElement('div');\n      const label = document.createElement('label');\n      label.textContent = `Downloading \"${filename}\": `;\n      div.appendChild(label);\n      const progress = document.createElement('progress');\n      progress.max = size;\n      div.appendChild(progress);\n      document.body.appendChild(div);\n\n      const buffers = [];\n      let downloaded = 0;\n\n      const channel = await google.colab.kernel.comms.open(id);\n      // Send a message to notify the kernel that we're ready.\n      channel.send({})\n\n      for await (const message of channel.messages) {\n        // Send a message to notify the kernel that we're ready.\n        channel.send({})\n        if (message.buffers) {\n          for (const buffer of message.buffers) {\n            buffers.push(buffer);\n            downloaded += buffer.byteLength;\n            progress.value = downloaded;\n          }\n        }\n      }\n      const blob = new Blob(buffers, {type: 'application/binary'});\n      const a = document.createElement('a');\n      a.href = window.URL.createObjectURL(blob);\n      a.download = filename;\n      div.appendChild(a);\n      a.click();\n      div.remove();\n    }\n  ",
            "text/plain": [
              "<IPython.core.display.Javascript object>"
            ]
          },
          "metadata": {},
          "output_type": "display_data"
        },
        {
          "data": {
            "application/javascript": "download(\"download_f157aff2-3a0a-4024-abd0-44ff66648731\", \"daily_price_data.zip\", 311073)",
            "text/plain": [
              "<IPython.core.display.Javascript object>"
            ]
          },
          "metadata": {},
          "output_type": "display_data"
        }
      ],
      "source": [
        "!rm -fr sample_data # remove a pasta sample_date\n",
        "!zip daily_price_data * # cria o arquivo zip a partir dos csvs\n",
        "\n",
        "from google.colab import files\n",
        "\n",
        "files.download('daily_price_data.zip')\n",
        "\n",
        "!rm -fr *.csv # deleta os arquivos .csv\n",
        "!rm -fr *.zip # deleta os arquivos .zip"
      ]
    },
    {
      "cell_type": "code",
      "execution_count": null,
      "metadata": {
        "id": "bwKMvHPLizHg"
      },
      "outputs": [],
      "source": [
        "from google.colab import drive\n",
        "drive.mount('/content/drive')"
      ]
    },
    {
      "cell_type": "code",
      "execution_count": null,
      "metadata": {
        "id": "MXY0Kbu6GUld"
      },
      "outputs": [],
      "source": [
        "import time\n",
        "\n",
        "def save_coin_data_intraday_as_csv(coin_id):\n",
        "\n",
        "  day = 60 * 60 * 24\n",
        "  start = 1372647600\n",
        "  end = 1634603878\n",
        "  #end = 1372647600 + (day * 3)\n",
        "\n",
        "  dfs = []\n",
        "\n",
        "  for t in tqdm(range(start, end, day),position=1):\n",
        "    cg.get_coin_market_chart_range_by_id(\n",
        "      id=coin_id,\n",
        "      vs_currency='usd',\n",
        "      from_timestamp=str(t),\n",
        "      to_timestamp=str(t+day)\n",
        "    )\n",
        "    time.sleep(2)\n",
        "\n",
        "  dfs.append(pd.DataFrame(coin_data['prices'],columns=['date','price']))\n",
        "  pd.concat(dfs).to_csv(f'{coin_id}_intraday.csv', index=False)"
      ]
    },
    {
      "cell_type": "code",
      "execution_count": null,
      "metadata": {
        "colab": {
          "background_save": true
        },
        "id": "Ig3JA5s3GkSU"
      },
      "outputs": [],
      "source": [
        "for c in tqdm(coin_list,position=0):\n",
        "  save_coin_data_intraday_as_csv(get_id_by_ticker(c))\n",
        "\n",
        "!zip intraday_price_data *\n",
        "\n",
        "from google.colab import files\n",
        "\n",
        "files.download('intraday_price_data.zip')\n",
        "\n",
        "!rm -fr *.csv\n",
        "!rm -fr *.zip"
      ]
    },
    {
      "cell_type": "code",
      "execution_count": null,
      "metadata": {
        "id": "qpNTAeUJIwSb"
      },
      "outputs": [],
      "source": []
    }
  ],
  "metadata": {
    "colab": {
      "collapsed_sections": [],
      "provenance": []
    },
    "interpreter": {
      "hash": "c5abe1dd6f168b4f5e67de02cffc00ce8cef82ade2b382edc6fecc892b15c5a1"
    },
    "kernelspec": {
      "display_name": "Python 3.9.12 ('base')",
      "language": "python",
      "name": "python3"
    },
    "language_info": {
      "codemirror_mode": {
        "name": "ipython",
        "version": 3
      },
      "file_extension": ".py",
      "mimetype": "text/x-python",
      "name": "python",
      "nbconvert_exporter": "python",
      "pygments_lexer": "ipython3",
      "version": "3.9.12"
    }
  },
  "nbformat": 4,
  "nbformat_minor": 0
}
